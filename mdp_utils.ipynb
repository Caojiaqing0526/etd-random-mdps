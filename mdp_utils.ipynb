{
 "cells": [
  {
   "cell_type": "code",
   "execution_count": 1,
   "metadata": {
    "collapsed": false
   },
   "outputs": [],
   "source": [
    "import numpy as np\n",
    "from numpy.linalg import det, pinv, matrix_rank, norm\n",
    "from mdputils import *"
   ]
  },
  {
   "cell_type": "code",
   "execution_count": 2,
   "metadata": {
    "collapsed": true
   },
   "outputs": [],
   "source": [
    "# Test matrices\n",
    "# Recurrent but periodic\n",
    "P1 = np.array([[0.0, 1, 0], [0, 0, 1], [1, 0, 0]]) \n",
    "# Reducible\n",
    "R1 = np.eye(3)\n",
    "# Ergodic\n",
    "E1 = np.array([[0.5, 0.5],[0.1, 0.9]])\n",
    "E2 = np.array([[0.2, 0.4, 0.4], [0.2, 0, 0.8], [0.2, 0.0, 0.8]])\n",
    "# Absorbing\n",
    "A1 = np.array([[0.2, 0.4, 0.4], [0.5, 0, 0.5], [0, 0, 1]])\n",
    "\n",
    "tstmat = [P1, R1, E1, E2, A1]"
   ]
  },
  {
   "cell_type": "code",
   "execution_count": 3,
   "metadata": {
    "collapsed": false
   },
   "outputs": [
    {
     "name": "stdout",
     "output_type": "stream",
     "text": [
      "[ 0.1666689  0.8333311]\n",
      "[ 0.16666667  0.83333333]\n"
     ]
    }
   ],
   "source": [
    "P = np.array([[0.5, 0.5], [0.1, 0.9]])\n",
    "\n",
    "sa = approx_stationary(P)\n",
    "se = stationary(P)\n",
    "\n",
    "print(sa)\n",
    "print(se)"
   ]
  },
  {
   "cell_type": "markdown",
   "metadata": {},
   "source": [
    "A random MP should be, if possible, ergodic\n",
    "\n",
    "A random MDP should have, if possible, significant differences according to the policy applied to it. It would be even nicer if the differences were in some sense tunable."
   ]
  },
  {
   "cell_type": "code",
   "execution_count": 21,
   "metadata": {
    "collapsed": false
   },
   "outputs": [
    {
     "name": "stdout",
     "output_type": "stream",
     "text": [
      "False\n",
      "True\n",
      "False\n",
      "False\n",
      "True\n"
     ]
    }
   ],
   "source": [
    "for i in tstmat:\n",
    "    print(is_reducible(i))"
   ]
  },
  {
   "cell_type": "code",
   "execution_count": 35,
   "metadata": {
    "collapsed": false
   },
   "outputs": [
    {
     "name": "stdout",
     "output_type": "stream",
     "text": [
      "[[ 0.23010326  0.34568871  0.42420803]\n",
      " [ 0.40827089  0.33455106  0.25717804]\n",
      " [ 0.37149958  0.56139231  0.06710811]]\n",
      "******************************\n",
      "Stochastic?: True\n",
      "Absorbing?: False\n",
      "Periodic?: False\n",
      "Reducible?: False\n",
      "Recurrent?: True\n",
      "Ergodic?: True\n"
     ]
    }
   ],
   "source": [
    "T = transition_matrix(3)\n",
    "print(T)\n",
    "print('*'*30)\n",
    "print(\"Stochastic?:\", is_stochastic(T))\n",
    "print(\"Absorbing?:\", is_absorbing(T))\n",
    "print(\"Periodic?:\", is_periodic(T))\n",
    "print(\"Reducible?:\", is_reducible(T))\n",
    "print(\"Recurrent?:\", is_recurrent(T))\n",
    "print(\"Ergodic?:\", is_ergodic(T))"
   ]
  },
  {
   "cell_type": "code",
   "execution_count": null,
   "metadata": {
    "collapsed": true
   },
   "outputs": [],
   "source": []
  }
 ],
 "metadata": {
  "kernelspec": {
   "display_name": "Python 3",
   "language": "python",
   "name": "python3"
  },
  "language_info": {
   "codemirror_mode": {
    "name": "ipython",
    "version": 3
   },
   "file_extension": ".py",
   "mimetype": "text/x-python",
   "name": "python",
   "nbconvert_exporter": "python",
   "pygments_lexer": "ipython3",
   "version": "3.4.3"
  }
 },
 "nbformat": 4,
 "nbformat_minor": 0
}
