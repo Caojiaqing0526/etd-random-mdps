{
 "cells": [
  {
   "cell_type": "code",
   "execution_count": 70,
   "metadata": {
    "collapsed": false
   },
   "outputs": [],
   "source": [
    "import numpy as np\n",
    "import scipy\n",
    "import scipy.stats as st\n",
    "\n",
    "from mdp import *"
   ]
  },
  {
   "cell_type": "code",
   "execution_count": 92,
   "metadata": {
    "collapsed": true
   },
   "outputs": [],
   "source": [
    "def random_mdp(ns, na, pvar=None, rvar=None):\n",
    "    \"\"\" Generate a random MDP with `ns` total states, `na` total \n",
    "    actions, returning a transition matrix and reward matrix, `(P, R)`.\n",
    "    \n",
    "    Optionally, the random variables used to define the probability and\n",
    "    reward matrices can be specified (c.f. `scipy.stats` )\n",
    "    \"\"\"\n",
    "    if rvar is None:\n",
    "        rvar = scipy.stats.uniform()\n",
    "    if pvar is None:\n",
    "        pvar = scipy.stats.uniform()\n",
    "        \n",
    "    P = np.zeros((ns, na, ns), dtype=np.float)\n",
    "    R = np.zeros((ns, na, ns), dtype=np.float)\n",
    "    for s, a in np.ndindex(ns, na):\n",
    "        R[s, a] = rvar.rvs()\n",
    "        P[s, a] = pvar.rvs(ns)\n",
    "        P[s, a] = P[s, a]/np.sum(P[s, a])\n",
    "    return P, R"
   ]
  },
  {
   "cell_type": "code",
   "execution_count": 73,
   "metadata": {
    "collapsed": true
   },
   "outputs": [],
   "source": [
    "def uniform_policy(ns, na):\n",
    "    \"\"\" Return a uniform random policy as a matrix.\"\"\"\n",
    "    return (np.ones((ns, na), dtype=np.float))/na"
   ]
  },
  {
   "cell_type": "code",
   "execution_count": 76,
   "metadata": {
    "collapsed": false
   },
   "outputs": [],
   "source": [
    "pol = uniform_policy(3, 4)"
   ]
  },
  {
   "cell_type": "code",
   "execution_count": 77,
   "metadata": {
    "collapsed": false
   },
   "outputs": [],
   "source": [
    "P, R = random_mdp(3, 3)"
   ]
  },
  {
   "cell_type": "code",
   "execution_count": 80,
   "metadata": {
    "collapsed": false
   },
   "outputs": [],
   "source": [
    "pol = np.zeros((3, 3))\n",
    "pol[:,0] = 1"
   ]
  },
  {
   "cell_type": "code",
   "execution_count": 82,
   "metadata": {
    "collapsed": false
   },
   "outputs": [
    {
     "data": {
      "text/plain": [
       "array([[ 0.,  1.,  2.],\n",
       "       [ 0.,  1.,  2.],\n",
       "       [ 0.,  1.,  2.]])"
      ]
     },
     "execution_count": 82,
     "metadata": {},
     "output_type": "execute_result"
    }
   ],
   "source": [
    "np.dot(pol, np.arange(9).reshape(3,3))"
   ]
  },
  {
   "cell_type": "code",
   "execution_count": 78,
   "metadata": {
    "collapsed": false
   },
   "outputs": [
    {
     "data": {
      "text/plain": [
       "array([[ 0.83626862,  0.02681555,  0.86952559],\n",
       "       [ 0.89067484,  0.24506923,  0.82270243],\n",
       "       [ 0.54573822,  0.59448958,  0.6148822 ]])"
      ]
     },
     "execution_count": 78,
     "metadata": {},
     "output_type": "execute_result"
    }
   ],
   "source": [
    "np.dot()"
   ]
  },
  {
   "cell_type": "code",
   "execution_count": 91,
   "metadata": {
    "collapsed": true
   },
   "outputs": [],
   "source": [
    "def policy_transition_matrix(P, pol):\n",
    "    \"\"\" Get the transition matrix under a fixed policy.\"\"\"\n",
    "    ns, na, _ = P.shape\n",
    "    P_pi = np.zeros((ns, ns), dtype=np.float)\n",
    "    for s in range(ns):\n",
    "        sp_vec = np.zeros(ns, dtype=np.float)\n",
    "        for a in range(na):\n",
    "            sp_vec += pol[s,a]*P[s,a]\n",
    "        P_pi[s] = sp_vec\n",
    "        \n",
    "    return P_pi"
   ]
  },
  {
   "cell_type": "code",
   "execution_count": 100,
   "metadata": {
    "collapsed": true
   },
   "outputs": [],
   "source": [
    "def expected_reward(P, R, pol):\n",
    "    \"\"\" Calculate the expected reward under the given policy.\"\"\"\n",
    "    ns, na, _ = P.shape\n",
    "    rvec = np.zeros(ns, dtype=np.float)\n",
    "    for s in range(ns):\n",
    "        for a in range(na):\n",
    "            prob_a = pol[s,a]\n",
    "            for sp in range(ns):\n",
    "                rvec[s] += prob_a*P[s,a,sp]*R[s,a,sp]\n",
    "    return rvec"
   ]
  },
  {
   "cell_type": "code",
   "execution_count": 101,
   "metadata": {
    "collapsed": false
   },
   "outputs": [],
   "source": [
    "R = np.arange(27).reshape(3,3,3)"
   ]
  },
  {
   "cell_type": "code",
   "execution_count": 102,
   "metadata": {
    "collapsed": false
   },
   "outputs": [
    {
     "data": {
      "text/plain": [
       "array([  1.26258784,  10.10298962,  18.75942815])"
      ]
     },
     "execution_count": 102,
     "metadata": {},
     "output_type": "execute_result"
    }
   ],
   "source": [
    "expected_reward(P, R, pol)"
   ]
  },
  {
   "cell_type": "code",
   "execution_count": 88,
   "metadata": {
    "collapsed": false
   },
   "outputs": [
    {
     "data": {
      "text/plain": [
       "array([ 0.01204339,  0.71332538,  0.27463123])"
      ]
     },
     "execution_count": 88,
     "metadata": {},
     "output_type": "execute_result"
    }
   ],
   "source": [
    "np.dot(unit(3, 0), np.dot(unit(3, 0), P))"
   ]
  },
  {
   "cell_type": "code",
   "execution_count": 89,
   "metadata": {
    "collapsed": false
   },
   "outputs": [
    {
     "data": {
      "text/plain": [
       "array([ 0.01204339,  0.71332538,  0.27463123])"
      ]
     },
     "execution_count": 89,
     "metadata": {},
     "output_type": "execute_result"
    }
   ],
   "source": [
    "np.dot(unit(3, 0), policy_transition_matrix(P, pol))"
   ]
  },
  {
   "cell_type": "code",
   "execution_count": 90,
   "metadata": {
    "collapsed": false
   },
   "outputs": [
    {
     "data": {
      "text/plain": [
       "array([[ 0.01204339,  0.71332538,  0.27463123],\n",
       "       [ 0.41115633,  0.07469773,  0.51414594],\n",
       "       [ 0.41733229,  0.40590727,  0.17676044]])"
      ]
     },
     "execution_count": 90,
     "metadata": {},
     "output_type": "execute_result"
    }
   ],
   "source": [
    "policy_transition_matrix(P, pol)"
   ]
  },
  {
   "cell_type": "code",
   "execution_count": 51,
   "metadata": {
    "collapsed": false
   },
   "outputs": [
    {
     "data": {
      "text/plain": [
       "array([ 3.,  4.,  5.])"
      ]
     },
     "execution_count": 51,
     "metadata": {},
     "output_type": "execute_result"
    }
   ],
   "source": [
    "s = unit(3,1)\n",
    "a = unit(3,0)"
   ]
  },
  {
   "cell_type": "code",
   "execution_count": 52,
   "metadata": {
    "collapsed": false
   },
   "outputs": [
    {
     "name": "stdout",
     "output_type": "stream",
     "text": [
      "1.0\n",
      "1.0\n",
      "1.0\n",
      "1.0\n",
      "1.0\n",
      "1.0\n",
      "1.0\n",
      "1.0\n",
      "1.0\n"
     ]
    }
   ],
   "source": [
    "pmat = rand_p(3, 3)\n",
    "for s, a in np.ndindex(3, 3):\n",
    "    print(np.sum(prob_next(s, a, pmat)))"
   ]
  },
  {
   "cell_type": "code",
   "execution_count": null,
   "metadata": {
    "collapsed": true
   },
   "outputs": [],
   "source": []
  }
 ],
 "metadata": {
  "kernelspec": {
   "display_name": "Python 3",
   "language": "python",
   "name": "python3"
  },
  "language_info": {
   "codemirror_mode": {
    "name": "ipython",
    "version": 3
   },
   "file_extension": ".py",
   "mimetype": "text/x-python",
   "name": "python",
   "nbconvert_exporter": "python",
   "pygments_lexer": "ipython3",
   "version": "3.4.3"
  }
 },
 "nbformat": 4,
 "nbformat_minor": 0
}
