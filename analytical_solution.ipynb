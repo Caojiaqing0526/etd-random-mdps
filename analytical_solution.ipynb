{
 "cells": [
  {
   "cell_type": "code",
   "execution_count": 92,
   "metadata": {
    "collapsed": true
   },
   "outputs": [],
   "source": [
    "import numpy as np\n",
    "from numpy.linalg import det, eig, pinv, matrix_rank, norm\n",
    "from mdputils import *"
   ]
  },
  {
   "cell_type": "code",
   "execution_count": 43,
   "metadata": {
    "collapsed": true
   },
   "outputs": [],
   "source": [
    "%run mdputils.py"
   ]
  },
  {
   "cell_type": "code",
   "execution_count": 4,
   "metadata": {
    "collapsed": true
   },
   "outputs": [],
   "source": [
    "def td_solution(P, R, X, G, L):\n",
    "    \"\"\"\n",
    "    Compute the fixed point of the weight vector for general TD-learning.\n",
    "    \n",
    "    P: Transition matrix under a policy\n",
    "    R: Reward vector under the policy\n",
    "    X: Feature vector matrix\n",
    "    G: Scaling matrix for gamma\n",
    "    L: Scaling matrix for lamba\n",
    "    \"\"\"\n",
    "    assert(is_stochastic(P))\n",
    "    assert(is_ergodic(P))\n",
    "    assert(is_diagonal(G))\n",
    "    assert(is_diagonal(L))\n",
    "    ns = len(P)\n",
    "    I = np.eye(ns)\n",
    "    \n",
    "    # compute intermediate values: distribution and eligibility trace\n",
    "    d = stationary(P)\n",
    "    D = np.diag(d)\n",
    "    E = pinv(I - mult(P, G, L))\n",
    "    \n",
    "    # Solve the system of equations\n",
    "    b = mult(X.T, D, P_trace, R)\n",
    "    A = mult(X.T, D, P_trace, (I - np.dot(P, G)), X)\n",
    "    \n",
    "    return np.dot(pinv(A), b).astype(np.float)"
   ]
  },
  {
   "cell_type": "code",
   "execution_count": 113,
   "metadata": {
    "collapsed": true
   },
   "outputs": [],
   "source": [
    "def random_binary(nrows, ncols, row_sum):\n",
    "    \"\"\"Generate a random binary matrix .\"\"\"\n",
    "    tmp = np.zeros(ncols)\n",
    "    tmp[:row_sum] = 1\n",
    "    ret = np.zeros((nrows, ncols))\n",
    "    for i in range(nrows):\n",
    "        ret[i] = np.random.permutation(tmp)\n",
    "    return ret"
   ]
  },
  {
   "cell_type": "code",
   "execution_count": 119,
   "metadata": {
    "collapsed": false
   },
   "outputs": [
    {
     "data": {
      "text/plain": [
       "array([ 345.,  331.,  324.])"
      ]
     },
     "execution_count": 119,
     "metadata": {},
     "output_type": "execute_result"
    }
   ],
   "source": [
    "np.sum(random_binary(1000,3,1), axis=0)"
   ]
  },
  {
   "cell_type": "code",
   "execution_count": null,
   "metadata": {
    "collapsed": true
   },
   "outputs": [],
   "source": [
    "def feature_matrix(phi, states):\n",
    "    \"\"\"Compute the feature matrix for the given states & feature function.\"\"\"\n",
    "    return np.array([phi(s) for s in states])"
   ]
  },
  {
   "cell_type": "code",
   "execution_count": null,
   "metadata": {
    "collapsed": true
   },
   "outputs": [],
   "source": [
    "def scaling_matrix(func, states):\n",
    "    \"\"\"Compute the scaling matrix for state-dependent parameters.\"\"\"\n",
    "    return np.diag([func(s) for s in states])"
   ]
  },
  {
   "cell_type": "code",
   "execution_count": 106,
   "metadata": {
    "collapsed": true
   },
   "outputs": [],
   "source": [
    "P = transition_matrix(3)\n",
    "G = np.diag((1 - np.eye(3))[2])\n",
    "L = np.diag(np.zeros(3))"
   ]
  },
  {
   "cell_type": "code",
   "execution_count": 107,
   "metadata": {
    "collapsed": false
   },
   "outputs": [],
   "source": [
    "assert(is_ergodic(P))\n",
    "d = stationary(P)"
   ]
  },
  {
   "cell_type": "code",
   "execution_count": 103,
   "metadata": {
    "collapsed": true
   },
   "outputs": [],
   "source": [
    "def inv_potential(P, *mats):\n",
    "    assert(is_stochastic(P))\n",
    "    I = np.eye(len(P))\n",
    "    tmp = np.copy(P)\n",
    "    for x in mats:\n",
    "        assert(is_diagonal(x))\n",
    "        tmp = np.dot(tmp, x)\n",
    "    return (I - tmp)\n",
    "\n",
    "def potential(P, *mats, tol=1e-6):\n",
    "    \"\"\"Compute the potential matrix, subject to scaling.\"\"\"\n",
    "    assert(is_stochastic(P))\n",
    "    I = np.eye(len(P))\n",
    "    tmp = np.copy(P)\n",
    "    for x in mats:\n",
    "        assert(is_diagonal(x))\n",
    "        tmp = np.dot(tmp, x)\n",
    "    ret = np.linalg.pinv(I - tmp)\n",
    "    ret[np.abs(ret) < tol] = 0 # zero values within tolerance\n",
    "    return ret\n",
    "\n",
    "def discount(P, G):\n",
    "    \"\"\"The discount matrix (I - P_{\\pi} \\Gamma)\n",
    "    NB: non-standard terminology.\n",
    "    \"\"\"\n",
    "    assert(is_stochastic(P))\n",
    "    assert(is_diagonal(G))\n",
    "    assert(not(np.all(np.diag(G) == 1)))\n",
    "    I = np.eye(len(P))\n",
    "    return I - np.dot(P,G)\n",
    "\n",
    "def eligibility(P, G, L):\n",
    "    \"\"\"The matrix which warps the distribution via traces.\n",
    "    ret = (I - P_{\\pi} \\Gamma \\Lambda)\n",
    "    \"\"\"\n",
    "\n",
    "def warp(P, G, L):\n",
    "    \"\"\"\n",
    "    The matrix which warps the distribution due to gamma and lambda.\n",
    "    warp = (I - P_{\\pi} \\Gamma \\Lambda)^{-1}\n",
    "    NB: \"warp matrix\" is non-standard terminology.\n",
    "\n",
    "    P : The transition matrix (under a policy)\n",
    "    G : Diagonal matrix, diag([gamma(s_1), ...])\n",
    "    L : Diagonal matrix, diag([lambda(s_1), ...])\n",
    "    \"\"\"\n",
    "    assert(is_stochastic(P))\n",
    "    assert(is_diagonal(G))\n",
    "    assert(is_diagonal(L))\n",
    "    assert(not(np.all(np.diag(G) == 1)))\n",
    "    I = np.eye(len(P))\n",
    "    return pinv(I - mult(P, G, L))\n",
    "    \n",
    "    \n",
    "def emphasis(P, G, L, N):\n",
    "    di = np.dot(N, stationary(P))\n",
    "    U = potential(P, G)\n",
    "    V = inv_potential(P, G, L)\n",
    "    m = np.dot(np.dot(di,U), V)\n",
    "    print(di)\n",
    "    print(U)\n",
    "    print(V)\n",
    "    print(m)\n",
    "    return np.diag(m)"
   ]
  },
  {
   "cell_type": "code",
   "execution_count": 108,
   "metadata": {
    "collapsed": false
   },
   "outputs": [
    {
     "name": "stdout",
     "output_type": "stream",
     "text": [
      "[ 0.36842623  0.27758893  0.35398484]\n",
      "[[ 1.75576842  0.67639681  0.        ]\n",
      " [ 0.42614213  1.59088806  0.        ]\n",
      " [ 1.04079665  0.78418311  1.        ]]\n",
      "[[ 1.  0.  0.]\n",
      " [ 0.  1.  0.]\n",
      " [ 0.  0.  1.]]\n",
      "[ 1.13358971  0.96840417  0.35398484]\n"
     ]
    },
    {
     "data": {
      "text/plain": [
       "array([[ 1.13358971,  0.        ,  0.        ],\n",
       "       [ 0.        ,  0.96840417,  0.        ],\n",
       "       [ 0.        ,  0.        ,  0.35398484]])"
      ]
     },
     "execution_count": 108,
     "metadata": {},
     "output_type": "execute_result"
    }
   ],
   "source": [
    "emphasis(P, G, L, np.eye(3))"
   ]
  },
  {
   "cell_type": "code",
   "execution_count": 109,
   "metadata": {
    "collapsed": false
   },
   "outputs": [],
   "source": [
    "U = potential(P, G)\n",
    "V = inv_potential(P, G, L)"
   ]
  },
  {
   "cell_type": "code",
   "execution_count": 110,
   "metadata": {
    "collapsed": false
   },
   "outputs": [
    {
     "data": {
      "text/plain": [
       "array([[ 1.,  0.,  0.],\n",
       "       [ 0.,  1.,  0.],\n",
       "       [ 0.,  0.,  1.]])"
      ]
     },
     "execution_count": 110,
     "metadata": {},
     "output_type": "execute_result"
    }
   ],
   "source": [
    "V"
   ]
  },
  {
   "cell_type": "code",
   "execution_count": 111,
   "metadata": {
    "collapsed": false
   },
   "outputs": [
    {
     "data": {
      "text/plain": [
       "array([ 0.36842623,  0.27758893,  0.35398484])"
      ]
     },
     "execution_count": 111,
     "metadata": {},
     "output_type": "execute_result"
    }
   ],
   "source": [
    "d"
   ]
  },
  {
   "cell_type": "code",
   "execution_count": 112,
   "metadata": {
    "collapsed": false
   },
   "outputs": [
    {
     "data": {
      "text/plain": [
       "array([ 1.13358971,  0.96840417,  0.35398484])"
      ]
     },
     "execution_count": 112,
     "metadata": {},
     "output_type": "execute_result"
    }
   ],
   "source": [
    "np.dot(d, U)"
   ]
  },
  {
   "cell_type": "code",
   "execution_count": 93,
   "metadata": {
    "collapsed": false
   },
   "outputs": [
    {
     "data": {
      "text/plain": [
       "(array([ 1.        ,  2.17669365,  1.29775508]),\n",
       " array([[ 0.        ,  0.40957357,  0.68107585],\n",
       "        [ 0.        ,  0.69476143, -0.43832433],\n",
       "        [ 1.        ,  0.59123265,  0.5865215 ]]))"
      ]
     },
     "execution_count": 93,
     "metadata": {},
     "output_type": "execute_result"
    }
   ],
   "source": [
    "eig(R)"
   ]
  },
  {
   "cell_type": "code",
   "execution_count": 79,
   "metadata": {
    "collapsed": false
   },
   "outputs": [
    {
     "data": {
      "text/plain": [
       "array([[  1.53950420e+00,   3.75633924e-01,  -1.94289029e-16],\n",
       "       [  4.10080079e-01,   1.93494453e+00,  -3.88578059e-16],\n",
       "       [  6.53083649e-01,   6.16346689e-01,   1.00000000e+00]])"
      ]
     },
     "execution_count": 79,
     "metadata": {},
     "output_type": "execute_result"
    }
   ],
   "source": [
    "np.linalg.pinv(np.eye(3) - np.dot(P,G))"
   ]
  },
  {
   "cell_type": "code",
   "execution_count": 56,
   "metadata": {
    "collapsed": false
   },
   "outputs": [
    {
     "data": {
      "text/plain": [
       "False"
      ]
     },
     "execution_count": 56,
     "metadata": {},
     "output_type": "execute_result"
    }
   ],
   "source": [
    "np.all(np.diag(G) == 1)"
   ]
  },
  {
   "cell_type": "code",
   "execution_count": 62,
   "metadata": {
    "collapsed": false
   },
   "outputs": [
    {
     "data": {
      "text/plain": [
       "array([ 1.,  1.,  1.])"
      ]
     },
     "execution_count": 62,
     "metadata": {},
     "output_type": "execute_result"
    }
   ],
   "source": [
    "somenone(3)"
   ]
  },
  {
   "cell_type": "code",
   "execution_count": 63,
   "metadata": {
    "collapsed": true
   },
   "outputs": [],
   "source": [
    "def foo(*args):\n",
    "    print(args)\n",
    "    print(type(args))"
   ]
  },
  {
   "cell_type": "code",
   "execution_count": 64,
   "metadata": {
    "collapsed": false
   },
   "outputs": [
    {
     "name": "stdout",
     "output_type": "stream",
     "text": [
      "()\n",
      "<class 'tuple'>\n"
     ]
    }
   ],
   "source": [
    "foo()"
   ]
  },
  {
   "cell_type": "code",
   "execution_count": 68,
   "metadata": {
    "collapsed": false
   },
   "outputs": [
    {
     "data": {
      "text/plain": [
       "array([ 0.49987624,  0.21488646,  0.28523729])"
      ]
     },
     "execution_count": 68,
     "metadata": {},
     "output_type": "execute_result"
    }
   ],
   "source": [
    "d[()]"
   ]
  },
  {
   "cell_type": "code",
   "execution_count": null,
   "metadata": {
    "collapsed": true
   },
   "outputs": [],
   "source": []
  }
 ],
 "metadata": {
  "kernelspec": {
   "display_name": "Python 3",
   "language": "python",
   "name": "python3"
  },
  "language_info": {
   "codemirror_mode": {
    "name": "ipython",
    "version": 3
   },
   "file_extension": ".py",
   "mimetype": "text/x-python",
   "name": "python",
   "nbconvert_exporter": "python",
   "pygments_lexer": "ipython3",
   "version": "3.4.3"
  }
 },
 "nbformat": 4,
 "nbformat_minor": 0
}
